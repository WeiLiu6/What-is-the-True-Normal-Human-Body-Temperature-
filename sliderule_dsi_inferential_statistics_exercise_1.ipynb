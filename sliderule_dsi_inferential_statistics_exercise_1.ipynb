{
 "cells": [
  {
   "cell_type": "markdown",
   "metadata": {},
   "source": [
    "# What is the True Normal Human Body Temperature? \n",
    "\n",
    "#### Background\n",
    "\n",
    "The mean normal body temperature was held to be 37$^{\\circ}$C or 98.6$^{\\circ}$F for more than 120 years since it was first conceptualized and reported by Carl Wunderlich in a famous 1868 book. But, is this value statistically correct?"
   ]
  },
  {
   "cell_type": "markdown",
   "metadata": {},
   "source": [
    "<div class=\"span5 alert alert-info\">\n",
    "<h3>Exercises</h3>\n",
    "\n",
    "<p>In this exercise, you will analyze a dataset of human body temperatures and employ the concepts of hypothesis testing, confidence intervals, and statistical significance.</p>\n",
    "\n",
    "<p>Answer the following questions <b>in this notebook below and submit to your Github account</b>.</p> \n",
    "\n",
    "<ol>\n",
    "<li>  Is the distribution of body temperatures normal? \n",
    "    <ul>\n",
    "    <li> Although this is not a requirement for CLT to hold (read CLT carefully), it gives us some peace of mind that the population may also be normally distributed if we assume that this sample is representative of the population.\n",
    "    </ul>\n",
    "<li>  Is the sample size large? Are the observations independent?\n",
    "    <ul>\n",
    "    <li> Remember that this is a condition for the CLT, and hence the statistical tests we are using, to apply.\n",
    "    </ul>\n",
    "<li>  Is the true population mean really 98.6 degrees F?\n",
    "    <ul>\n",
    "    <li> Would you use a one-sample or two-sample test? Why?\n",
    "    <li> In this situation, is it appropriate to use the $t$ or $z$ statistic? \n",
    "    <li> Now try using the other test. How is the result be different? Why?\n",
    "    </ul>\n",
    "<li>  At what temperature should we consider someone's temperature to be \"abnormal\"?\n",
    "    <ul>\n",
    "    <li> Start by computing the margin of error and confidence interval.\n",
    "    </ul>\n",
    "<li>  Is there a significant difference between males and females in normal temperature?\n",
    "    <ul>\n",
    "    <li> What test did you use and why?\n",
    "    <li> Write a story with your conclusion in the context of the original problem.\n",
    "    </ul>\n",
    "</ol>\n",
    "\n",
    "You can include written notes in notebook cells using Markdown: \n",
    "   - In the control panel at the top, choose Cell > Cell Type > Markdown\n",
    "   - Markdown syntax: http://nestacms.com/docs/creating-content/markdown-cheat-sheet\n",
    "\n",
    "#### Resources\n",
    "\n",
    "+ Information and data sources: http://www.amstat.org/publications/jse/datasets/normtemp.txt, http://www.amstat.org/publications/jse/jse_data_archive.htm\n",
    "+ Markdown syntax: http://nestacms.com/docs/creating-content/markdown-cheat-sheet\n",
    "\n",
    "****\n",
    "</div>"
   ]
  },
  {
   "cell_type": "code",
   "execution_count": 2,
   "metadata": {
    "collapsed": true
   },
   "outputs": [],
   "source": [
    "import pandas as pd\n",
    "\n",
    "df = pd.read_csv('data/human_body_temperature.csv')"
   ]
  },
  {
   "cell_type": "code",
   "execution_count": 3,
   "metadata": {},
   "outputs": [
    {
     "name": "stdout",
     "output_type": "stream",
     "text": [
      "Body Temperature Mean: 98.24923076923078\n",
      "Bode Temperature standard deviation: 0.7303577789050377\n",
      "Male Temperature Mean: 98.1046153846154\n",
      "Female Temperatrue Mean: 98.39384615384613\n"
     ]
    },
    {
     "data": {
      "image/png": "[encoded data removed]",
      "text/plain": [
       "<matplotlib.figure.Figure at 0x81e3320>"
      ]
     },
     "metadata": {},
     "output_type": "display_data"
    }
   ],
   "source": [
    "# Your work here.\n",
    "import numpy as np\n",
    "import matplotlib.pyplot as plt\n",
    "def ecdf(data):\n",
    "    n = len(data)\n",
    "    x = np.sort(data)\n",
    "    y = np.arange(1,n+1)/n\n",
    "    return x,y\n",
    "\n",
    "miu = np.mean(df.temperature)\n",
    "sigma = np.std(df.temperature)\n",
    "miu_m = np.mean(df[df.gender=='M'].temperature)\n",
    "miu_f = np.mean(df[df.gender=='F'].temperature)\n",
    "print('Body Temperature Mean:',miu)\n",
    "print('Bode Temperature standard deviation:',sigma)\n",
    "print('Male Temperature Mean:', miu_m)\n",
    "print('Female Temperatrue Mean:', miu_f)\n",
    "norm = np.random.normal(miu,sigma,10000)\n",
    "\n",
    "norm_x, norm_y = ecdf(norm)\n",
    "df_x, df_y = ecdf(df.temperature)\n",
    "\n",
    "plt.plot(norm_x, norm_y)\n",
    "plt.plot(df_x, df_y, marker = '.', linestyle='none')\n",
    "plt.margins(0.02)\n",
    "\n",
    "plt.xlabel('Human Body Tempeture')\n",
    "plt.ylabel('CDF')\n",
    "plt.show()\n"
   ]
  },
  {
   "cell_type": "markdown",
   "metadata": {},
   "source": [
    "> Question 1: Is the distribution of body temperatures normal?\n",
    "\n",
    "Answer: From the chart above, the human body temperature distribution seems to fit the normal distribution, but not perfectly. It could be due to the small size of the data set.\n"
   ]
  },
  {
   "cell_type": "markdown",
   "metadata": {},
   "source": [
    ">Question 2: Is the sample size large? Are the observations independent?\n",
    "\n",
    "Answer: The sample size is 130, not a very large one, but exceeds the minimum number(30) to apply the CLT. The observations are independent, because one person's body temperature would not affect another person's body temperature."
   ]
  },
  {
   "cell_type": "markdown",
   "metadata": {},
   "source": [
    "> Question 3:Is the true population mean really 98.6 degrees F?\n",
    "            * Would you use a one-sample or two-sample test? Why?\n",
    "            * In this situation, is it appropriate to use the  t  or  z  statistic?\n",
    "            * Now try using the other test. How is the result be different? Why?\n",
    "            \n",
    "Answer:  To test the hypothesis H0: population mean = 98.6 degrees F, I would use a one-sample test, because there is only one group of data, no other group to campare with.\n",
    "\n",
    "And the T test is appropriate to be used here. The reason is because to use a Z test, the population standard deviation must be available. And in the case of thie data set, only the polulation mean, sample mean and sample standard deviation is provided, but not the population standard deviation.\n",
    "\n",
    "Below is the code and result of the T test."
   ]
  },
  {
   "cell_type": "code",
   "execution_count": 4,
   "metadata": {},
   "outputs": [
    {
     "data": {
      "text/plain": [
       "-5.4759252020781162"
      ]
     },
     "execution_count": 4,
     "metadata": {},
     "output_type": "execute_result"
    }
   ],
   "source": [
    "t_score = (miu - 98.6)/(sigma/np.sqrt(130))\n",
    "t_score"
   ]
  },
  {
   "cell_type": "markdown",
   "metadata": {},
   "source": [
    "The t score acception region at 1% significance level is (-2.626,2.626), which the t score computed has ecceeded, thus the Null \n",
    "hypothesis: the true mean of body temperature = 98.6 degrees F is rejected at the 1% significance level.\n",
    "\n",
    "Without the population std, a Z test can not be conducted, if we assume the sample std is the population std, the Z test would be equal to the T test."
   ]
  },
  {
   "cell_type": "code",
   "execution_count": 5,
   "metadata": {},
   "outputs": [
    {
     "data": {
      "text/plain": [
       "array([ 97.045,  99.3  ])"
      ]
     },
     "execution_count": 5,
     "metadata": {},
     "output_type": "execute_result"
    }
   ],
   "source": [
    "tem_percentile = np.percentile(df.temperature,[5,95])\n",
    "tem_percentile"
   ]
  },
  {
   "cell_type": "markdown",
   "metadata": {},
   "source": [
    "> Question 4: At what temperature should we consider someone's temperature to be \"abnormal\"?\n",
    "\n",
    "Answer: At the 90% confidence interval, if a person's body temperature is below 97.045 degrees F or above 99.3 degrees F, it should be considered abnormal. "
   ]
  },
  {
   "cell_type": "code",
   "execution_count": 7,
   "metadata": {},
   "outputs": [
    {
     "data": {
      "text/plain": [
       "-2.3032202891940123"
      ]
     },
     "execution_count": 7,
     "metadata": {},
     "output_type": "execute_result"
    }
   ],
   "source": [
    "sigma_m = np.std(df[df.gender=='M'].temperature)\n",
    "sigma_f = np.std(df[df.gender=='F'].temperature)\n",
    "z_value = (miu_m - miu_f)/np.sqrt((sigma_m**2/len(df[df.gender=='M']))+(sigma_f**2/len(df[df.gender=='M'])))\n",
    "z_value"
   ]
  },
  {
   "cell_type": "markdown",
   "metadata": {},
   "source": [
    "> Question 5: Is there a significant difference between males and females in normal temperature?\n",
    "          * What test did you use and why?\n",
    "          * Write a story with your conclusion in the context of the original problem.\n",
    "          \n",
    "Answer:   The two sample Z test is used here, because the male and female body temperatures are two unrelated, independant groups.\n",
    "\n",
    "The probability for z value -2.30 is 0.107, because the test is two tailed, hence the probability is doubled, and the conlusion is :At the significance level of 2.1%, the hypothesis (female human temperature mean = male human temperature mean) can not be reject. But it can be rejected at a 5% significance level.  "
   ]
  }
 ],
 "metadata": {
  "kernelspec": {
   "display_name": "Python 3",
   "language": "python",
   "name": "python3"
  },
  "language_info": {
   "codemirror_mode": {
    "name": "ipython",
    "version": 3
   },
   "file_extension": ".py",
   "mimetype": "text/x-python",
   "name": "python",
   "nbconvert_exporter": "python",
   "pygments_lexer": "ipython3",
   "version": "3.6.1"
  }
 },
 "nbformat": 4,
 "nbformat_minor": 1
}
